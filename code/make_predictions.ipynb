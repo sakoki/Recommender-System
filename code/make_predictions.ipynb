{
 "cells": [
  {
   "cell_type": "markdown",
   "metadata": {},
   "source": [
    "# Rating Predictions\n",
    "*Author: Koki Sasagawa*  \n",
    "*Date: 10/8/2018* \n",
    "\n",
    "## Task\n",
    "Build a recommendation system that predicts a rating on the scale of 1 to 5 for a given user product. Collaborative filtering models are based on the idea that people tend to like things that are similar to other things they like, and things that are liked by other people that share similar preferences. \n",
    "\n",
    "2 approaches: \n",
    "- Memory based approach cosine similarity and weighted averages of ratings\n",
    "- Model based approach using SVD for matrix factorization\n",
    "\n",
    "## Submission \n",
    "Excel file containing 3 columns: reviewerID, asin, and overall.  \n",
    "kaggle link: https://www.kaggle.com/c/si671-hw1\n",
    "\n",
    "## Running the notebook\n",
    "This notebook requires `predictions.py`, `evaluations.py`, and `decorators.py` files"
   ]
  },
  {
   "cell_type": "code",
   "execution_count": 1,
   "metadata": {},
   "outputs": [],
   "source": [
    "import os\n",
    "import pickle \n",
    "import pandas as pd\n",
    "import numpy as np\n",
    "import matplotlib.pyplot as plt\n",
    "import seaborn as sns\n",
    "from scipy import sparse\n",
    "from surprise import SVD, Dataset, Reader\n",
    "\n",
    "from predictions import baseline\n",
    "from evaluations import rmse_test\n",
    "from decorators import timer \n",
    "\n",
    "%matplotlib inline"
   ]
  },
  {
   "cell_type": "markdown",
   "metadata": {},
   "source": [
    "## 1. Load files"
   ]
  },
  {
   "cell_type": "code",
   "execution_count": 2,
   "metadata": {},
   "outputs": [
    {
     "name": "stdout",
     "output_type": "stream",
     "text": [
      "Number of rows: 1527779\n"
     ]
    },
    {
     "data": {
      "text/html": [
       "<div>\n",
       "<style scoped>\n",
       "    .dataframe tbody tr th:only-of-type {\n",
       "        vertical-align: middle;\n",
       "    }\n",
       "\n",
       "    .dataframe tbody tr th {\n",
       "        vertical-align: top;\n",
       "    }\n",
       "\n",
       "    .dataframe thead th {\n",
       "        text-align: right;\n",
       "    }\n",
       "</style>\n",
       "<table border=\"1\" class=\"dataframe\">\n",
       "  <thead>\n",
       "    <tr style=\"text-align: right;\">\n",
       "      <th></th>\n",
       "      <th>reviewerID</th>\n",
       "      <th>asin</th>\n",
       "      <th>overall</th>\n",
       "    </tr>\n",
       "  </thead>\n",
       "  <tbody>\n",
       "    <tr>\n",
       "      <th>0</th>\n",
       "      <td>AMFIPCYDYWGVT</td>\n",
       "      <td>B0090SI56Y</td>\n",
       "      <td>4</td>\n",
       "    </tr>\n",
       "    <tr>\n",
       "      <th>1</th>\n",
       "      <td>A3G602Z4DWDZKS</td>\n",
       "      <td>B00005JL99</td>\n",
       "      <td>5</td>\n",
       "    </tr>\n",
       "    <tr>\n",
       "      <th>2</th>\n",
       "      <td>A33BOYMVG3U58Y</td>\n",
       "      <td>B00109KN0M</td>\n",
       "      <td>5</td>\n",
       "    </tr>\n",
       "    <tr>\n",
       "      <th>3</th>\n",
       "      <td>ANEDXRFDZDL18</td>\n",
       "      <td>B00005JMPT</td>\n",
       "      <td>5</td>\n",
       "    </tr>\n",
       "    <tr>\n",
       "      <th>4</th>\n",
       "      <td>A1VN7IS16PY024</td>\n",
       "      <td>B00005AAA9</td>\n",
       "      <td>4</td>\n",
       "    </tr>\n",
       "  </tbody>\n",
       "</table>\n",
       "</div>"
      ],
      "text/plain": [
       "       reviewerID        asin  overall\n",
       "0   AMFIPCYDYWGVT  B0090SI56Y        4\n",
       "1  A3G602Z4DWDZKS  B00005JL99        5\n",
       "2  A33BOYMVG3U58Y  B00109KN0M        5\n",
       "3   ANEDXRFDZDL18  B00005JMPT        5\n",
       "4  A1VN7IS16PY024  B00005AAA9        4"
      ]
     },
     "execution_count": 2,
     "metadata": {},
     "output_type": "execute_result"
    }
   ],
   "source": [
    "train_df = pd.read_csv('../temp_data/full_train_set.csv')\n",
    "print('Number of rows: {}'.format(train_df.shape[0]))\n",
    "train_df.head()"
   ]
  },
  {
   "cell_type": "code",
   "execution_count": 3,
   "metadata": {},
   "outputs": [
    {
     "name": "stdout",
     "output_type": "stream",
     "text": [
      "Sparse matrix dimensions: (50051, 123960)\n",
      "Number of stored values: 1527779\n"
     ]
    }
   ],
   "source": [
    "train_matrix = sparse.load_npz('../temp_data/movie_reviews.npz')\n",
    "print('Sparse matrix dimensions: {}'.format(train_matrix.shape))\n",
    "print('Number of stored values: {}'.format(train_matrix.nnz))"
   ]
  },
  {
   "cell_type": "code",
   "execution_count": 4,
   "metadata": {},
   "outputs": [
    {
     "name": "stdout",
     "output_type": "stream",
     "text": [
      "Number of row indexes: 50051\n"
     ]
    }
   ],
   "source": [
    "with open('../temp_data/movie_index_map.p', 'rb') as fp:\n",
    "    row_index_to_movies = pickle.load(fp)\n",
    "    \n",
    "print('Number of row indexes: {}'.format(len(row_index_to_movies)))"
   ]
  },
  {
   "cell_type": "code",
   "execution_count": 5,
   "metadata": {},
   "outputs": [
    {
     "name": "stdout",
     "output_type": "stream",
     "text": [
      "Number of col indexes: 123960\n"
     ]
    }
   ],
   "source": [
    "with open('../temp_data/reviewer_index_map.p', 'rb') as fp:\n",
    "    col_index_to_reviewer = pickle.load(fp)\n",
    "    \n",
    "print('Number of col indexes: {}'.format(len(col_index_to_reviewer)))"
   ]
  },
  {
   "cell_type": "code",
   "execution_count": 6,
   "metadata": {},
   "outputs": [
    {
     "name": "stdout",
     "output_type": "stream",
     "text": [
      "Number of rows: 169753\n"
     ]
    },
    {
     "data": {
      "text/html": [
       "<div>\n",
       "<style scoped>\n",
       "    .dataframe tbody tr th:only-of-type {\n",
       "        vertical-align: middle;\n",
       "    }\n",
       "\n",
       "    .dataframe tbody tr th {\n",
       "        vertical-align: top;\n",
       "    }\n",
       "\n",
       "    .dataframe thead th {\n",
       "        text-align: right;\n",
       "    }\n",
       "</style>\n",
       "<table border=\"1\" class=\"dataframe\">\n",
       "  <thead>\n",
       "    <tr style=\"text-align: right;\">\n",
       "      <th></th>\n",
       "      <th>datapointID</th>\n",
       "      <th>reviewerID</th>\n",
       "      <th>asin</th>\n",
       "    </tr>\n",
       "  </thead>\n",
       "  <tbody>\n",
       "    <tr>\n",
       "      <th>0</th>\n",
       "      <td>85288b7fd23d48dcb4fd2c9b52a7fa3c</td>\n",
       "      <td>AT79BAVA063DG</td>\n",
       "      <td>B0009UVCQC</td>\n",
       "    </tr>\n",
       "    <tr>\n",
       "      <th>1</th>\n",
       "      <td>06f33eaec5bb4c20857cc1f9aee60fb4</td>\n",
       "      <td>A2DAHERP7HYJGO</td>\n",
       "      <td>B002ZG99TA</td>\n",
       "    </tr>\n",
       "    <tr>\n",
       "      <th>2</th>\n",
       "      <td>8f14a0d25996472d80a2e745b66f565a</td>\n",
       "      <td>A3NM0RAYSL6PA8</td>\n",
       "      <td>B0001NBNDY</td>\n",
       "    </tr>\n",
       "    <tr>\n",
       "      <th>3</th>\n",
       "      <td>50095c59950e444eb2b35afb00009f44</td>\n",
       "      <td>A2KODQS5LJGHF8</td>\n",
       "      <td>6304089767</td>\n",
       "    </tr>\n",
       "    <tr>\n",
       "      <th>4</th>\n",
       "      <td>abbbd3cd87d846b0a965ae7ce0ea1aaf</td>\n",
       "      <td>A2ULE2TYILL4BR</td>\n",
       "      <td>B000056MOF</td>\n",
       "    </tr>\n",
       "  </tbody>\n",
       "</table>\n",
       "</div>"
      ],
      "text/plain": [
       "                        datapointID      reviewerID        asin\n",
       "0  85288b7fd23d48dcb4fd2c9b52a7fa3c   AT79BAVA063DG  B0009UVCQC\n",
       "1  06f33eaec5bb4c20857cc1f9aee60fb4  A2DAHERP7HYJGO  B002ZG99TA\n",
       "2  8f14a0d25996472d80a2e745b66f565a  A3NM0RAYSL6PA8  B0001NBNDY\n",
       "3  50095c59950e444eb2b35afb00009f44  A2KODQS5LJGHF8  6304089767\n",
       "4  abbbd3cd87d846b0a965ae7ce0ea1aaf  A2ULE2TYILL4BR  B000056MOF"
      ]
     },
     "execution_count": 6,
     "metadata": {},
     "output_type": "execute_result"
    }
   ],
   "source": [
    "test_df = pd.read_csv('../raw_data/reviews.test.unlabeled.csv')\n",
    "print('Number of rows: {}'.format(test_df.shape[0]))\n",
    "test_df.head()"
   ]
  },
  {
   "cell_type": "markdown",
   "metadata": {},
   "source": [
    "## 2. Train model\n",
    "\n",
    "After testing different methods during development, we concluded the best performance was achieved using SVD for matrix factorization with the following parameters:\n",
    "\n",
    "1. n_factors: 5\n",
    "2. n_epoch: 80\n",
    "3. lr_all: 0.003\n",
    "4. reg_all: 0.15"
   ]
  },
  {
   "cell_type": "code",
   "execution_count": 7,
   "metadata": {},
   "outputs": [],
   "source": [
    "reader = Reader(rating_scale=(1, 5))\n",
    "data = Dataset.load_from_df(train_df, reader)"
   ]
  },
  {
   "cell_type": "code",
   "execution_count": 20,
   "metadata": {},
   "outputs": [],
   "source": [
    "# Prepare data \n",
    "train_data = data.build_full_trainset()\n",
    "\n",
    "# Fit SVD model with best performing parameters \n",
    "model = SVD(n_factors=5, n_epochs=80, lr_all=0.003, reg_all=0.15)\n",
    "model.fit(train_data)\n",
    "\n",
    "# Save model\n",
    "with open('../output/SVD_model.p', 'wb') as fp:\n",
    "    pickle.dump(model, fp, protocol=pickle.HIGHEST_PROTOCOL)"
   ]
  },
  {
   "cell_type": "markdown",
   "metadata": {},
   "source": [
    "## 3. Make predictions"
   ]
  },
  {
   "cell_type": "code",
   "execution_count": 21,
   "metadata": {},
   "outputs": [],
   "source": [
    "predictions = []\n",
    "\n",
    "for i in test_df.itertuples():\n",
    "    reviewer = i[2]\n",
    "    movie = i[3]    \n",
    "\n",
    "    predictions.append(model.predict(reviewer, movie).est)"
   ]
  },
  {
   "cell_type": "markdown",
   "metadata": {},
   "source": [
    "## 4. Save output"
   ]
  },
  {
   "cell_type": "code",
   "execution_count": 22,
   "metadata": {},
   "outputs": [],
   "source": [
    "# Save predictions \n",
    "rating_predictions = pd.DataFrame({'datapointID': test_df['datapointID'], \n",
    "                                   'overall': predictions})\n",
    "\n",
    "rating_predictions.to_csv('../output/test.csv', index=False)"
   ]
  },
  {
   "cell_type": "markdown",
   "metadata": {},
   "source": []
  }
 ],
 "metadata": {
  "kernelspec": {
   "display_name": "Python 3",
   "language": "python",
   "name": "python3"
  },
  "language_info": {
   "codemirror_mode": {
    "name": "ipython",
    "version": 3
   },
   "file_extension": ".py",
   "mimetype": "text/x-python",
   "name": "python",
   "nbconvert_exporter": "python",
   "pygments_lexer": "ipython3",
   "version": "3.7.0"
  }
 },
 "nbformat": 4,
 "nbformat_minor": 2
}
