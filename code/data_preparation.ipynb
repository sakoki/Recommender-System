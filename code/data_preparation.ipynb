{
 "cells": [
  {
   "cell_type": "markdown",
   "metadata": {},
   "source": [
    "# Data Preparation \n",
    "\n",
    "*Notebook Author: Koki Sasagawa*  \n",
    "*Date: 10/8/2018*\n",
    "\n",
    "Prepare data for rating prediction task\n",
    "\n",
    "## Data: \n",
    "\n",
    "`reviews.training.json` \n",
    "Sample: \n",
    "```json\n",
    "{\n",
    " \"reviewerID\": \"AMFIPCYDYWGVT\",\n",
    " \"asin\": \"B0090SI56Y\",\n",
    " \"reviewerName\": \"AMRDxn\",\n",
    " \"helpfull\": [\n",
    " 0,\n",
    " 0\n",
    " ],\n",
    " \"reviewText\": \"The movie was entertaining and falls in line with the Wolverine story. Nice special effect and good story line. Recommended.\",\n",
    " \"overall\": 4,\n",
    " \"summary\": \"Entertaining\",\n",
    " \"unixReviewTime\": 1387670400,\n",
    " \"reviewTime\": \"12 22, 2013\"\n",
    " }\n",
    "```\n",
    "- reviewerID = specific individual making a review\n",
    "- asin = identifier for the product being reviewed \n",
    "- overall = rating on a scale of 1-5 \n",
    "\n",
    "`reviews.test.unlabeled.csv`  \n",
    "`reviews.dev.csv`  \n",
    "`reviews.dev.json`"
   ]
  },
  {
   "cell_type": "code",
   "execution_count": 1,
   "metadata": {},
   "outputs": [],
   "source": [
    "import pandas as pd\n",
    "import numpy as np\n",
    "import pickle\n",
    "from scipy import sparse\n",
    "import matplotlib.pyplot as plt\n",
    "import seaborn as sns\n",
    "\n",
    "%matplotlib inline"
   ]
  },
  {
   "cell_type": "markdown",
   "metadata": {},
   "source": [
    "## 1. Load files"
   ]
  },
  {
   "cell_type": "code",
   "execution_count": 2,
   "metadata": {},
   "outputs": [
    {
     "name": "stdout",
     "output_type": "stream",
     "text": [
      "Number of rows: 169753\n"
     ]
    },
    {
     "data": {
      "text/html": [
       "<div>\n",
       "<style scoped>\n",
       "    .dataframe tbody tr th:only-of-type {\n",
       "        vertical-align: middle;\n",
       "    }\n",
       "\n",
       "    .dataframe tbody tr th {\n",
       "        vertical-align: top;\n",
       "    }\n",
       "\n",
       "    .dataframe thead th {\n",
       "        text-align: right;\n",
       "    }\n",
       "</style>\n",
       "<table border=\"1\" class=\"dataframe\">\n",
       "  <thead>\n",
       "    <tr style=\"text-align: right;\">\n",
       "      <th></th>\n",
       "      <th>reviewerID</th>\n",
       "      <th>asin</th>\n",
       "      <th>overall</th>\n",
       "    </tr>\n",
       "  </thead>\n",
       "  <tbody>\n",
       "    <tr>\n",
       "      <th>0</th>\n",
       "      <td>A34DNO6UAH67Z0</td>\n",
       "      <td>B000CDSS22</td>\n",
       "      <td>5</td>\n",
       "    </tr>\n",
       "    <tr>\n",
       "      <th>1</th>\n",
       "      <td>A3APW42N5MRVWT</td>\n",
       "      <td>6305186774</td>\n",
       "      <td>2</td>\n",
       "    </tr>\n",
       "    <tr>\n",
       "      <th>2</th>\n",
       "      <td>A20D9VGCF3P13L</td>\n",
       "      <td>B004LWZW24</td>\n",
       "      <td>5</td>\n",
       "    </tr>\n",
       "    <tr>\n",
       "      <th>3</th>\n",
       "      <td>A82LIVYSX6WZ9</td>\n",
       "      <td>B00001U0DM</td>\n",
       "      <td>3</td>\n",
       "    </tr>\n",
       "    <tr>\n",
       "      <th>4</th>\n",
       "      <td>A3LRKDF5WU4ZDO</td>\n",
       "      <td>B00005JOZI</td>\n",
       "      <td>3</td>\n",
       "    </tr>\n",
       "  </tbody>\n",
       "</table>\n",
       "</div>"
      ],
      "text/plain": [
       "       reviewerID        asin  overall\n",
       "0  A34DNO6UAH67Z0  B000CDSS22        5\n",
       "1  A3APW42N5MRVWT  6305186774        2\n",
       "2  A20D9VGCF3P13L  B004LWZW24        5\n",
       "3   A82LIVYSX6WZ9  B00001U0DM        3\n",
       "4  A3LRKDF5WU4ZDO  B00005JOZI        3"
      ]
     },
     "execution_count": 2,
     "metadata": {},
     "output_type": "execute_result"
    }
   ],
   "source": [
    "dev_df = pd.read_csv('../raw_data/reviews.dev.csv')\n",
    "print('Number of rows: {}'.format(dev_df.shape[0]))\n",
    "dev_df.head()"
   ]
  },
  {
   "cell_type": "code",
   "execution_count": 3,
   "metadata": {},
   "outputs": [
    {
     "name": "stdout",
     "output_type": "stream",
     "text": [
      "Number of rows: 1358026\n"
     ]
    },
    {
     "data": {
      "text/html": [
       "<div>\n",
       "<style scoped>\n",
       "    .dataframe tbody tr th:only-of-type {\n",
       "        vertical-align: middle;\n",
       "    }\n",
       "\n",
       "    .dataframe tbody tr th {\n",
       "        vertical-align: top;\n",
       "    }\n",
       "\n",
       "    .dataframe thead th {\n",
       "        text-align: right;\n",
       "    }\n",
       "</style>\n",
       "<table border=\"1\" class=\"dataframe\">\n",
       "  <thead>\n",
       "    <tr style=\"text-align: right;\">\n",
       "      <th></th>\n",
       "      <th>asin</th>\n",
       "      <th>helpful</th>\n",
       "      <th>overall</th>\n",
       "      <th>reviewText</th>\n",
       "      <th>reviewTime</th>\n",
       "      <th>reviewerID</th>\n",
       "      <th>reviewerName</th>\n",
       "      <th>summary</th>\n",
       "      <th>unixReviewTime</th>\n",
       "    </tr>\n",
       "  </thead>\n",
       "  <tbody>\n",
       "    <tr>\n",
       "      <th>0</th>\n",
       "      <td>B0090SI56Y</td>\n",
       "      <td>[0, 0]</td>\n",
       "      <td>4</td>\n",
       "      <td>The movie was entertaining and falls in line w...</td>\n",
       "      <td>12 22, 2013</td>\n",
       "      <td>AMFIPCYDYWGVT</td>\n",
       "      <td>AMRDxn</td>\n",
       "      <td>Entertaining</td>\n",
       "      <td>1387670400</td>\n",
       "    </tr>\n",
       "    <tr>\n",
       "      <th>1</th>\n",
       "      <td>B00005JL99</td>\n",
       "      <td>[3, 6]</td>\n",
       "      <td>5</td>\n",
       "      <td>One thing to be said about Japanese horror/ext...</td>\n",
       "      <td>11 19, 2003</td>\n",
       "      <td>A3G602Z4DWDZKS</td>\n",
       "      <td>Matthew King</td>\n",
       "      <td>Absolutely stunning! A battle not to be missed!</td>\n",
       "      <td>1069200000</td>\n",
       "    </tr>\n",
       "    <tr>\n",
       "      <th>2</th>\n",
       "      <td>B00109KN0M</td>\n",
       "      <td>[27, 28]</td>\n",
       "      <td>5</td>\n",
       "      <td>Michelle Pfeiffer gives a brilliant performanc...</td>\n",
       "      <td>02 13, 2008</td>\n",
       "      <td>A33BOYMVG3U58Y</td>\n",
       "      <td>TV Critic</td>\n",
       "      <td>Michelle Pfeiffer shines</td>\n",
       "      <td>1202860800</td>\n",
       "    </tr>\n",
       "    <tr>\n",
       "      <th>3</th>\n",
       "      <td>B00005JMPT</td>\n",
       "      <td>[3, 4]</td>\n",
       "      <td>5</td>\n",
       "      <td>I wanted to see &amp;quot;The Missing&amp;quot; when i...</td>\n",
       "      <td>06 18, 2004</td>\n",
       "      <td>ANEDXRFDZDL18</td>\n",
       "      <td>Serene Night</td>\n",
       "      <td>Hard Gritty Western</td>\n",
       "      <td>1087516800</td>\n",
       "    </tr>\n",
       "    <tr>\n",
       "      <th>4</th>\n",
       "      <td>B00005AAA9</td>\n",
       "      <td>[0, 0]</td>\n",
       "      <td>4</td>\n",
       "      <td>I think &amp;#34;Miss Congeniality&amp;#34; is a light...</td>\n",
       "      <td>10 22, 2013</td>\n",
       "      <td>A1VN7IS16PY024</td>\n",
       "      <td>Amazon Customer</td>\n",
       "      <td>Very entertaining but.....</td>\n",
       "      <td>1382400000</td>\n",
       "    </tr>\n",
       "  </tbody>\n",
       "</table>\n",
       "</div>"
      ],
      "text/plain": [
       "         asin   helpful  overall  \\\n",
       "0  B0090SI56Y    [0, 0]        4   \n",
       "1  B00005JL99    [3, 6]        5   \n",
       "2  B00109KN0M  [27, 28]        5   \n",
       "3  B00005JMPT    [3, 4]        5   \n",
       "4  B00005AAA9    [0, 0]        4   \n",
       "\n",
       "                                          reviewText   reviewTime  \\\n",
       "0  The movie was entertaining and falls in line w...  12 22, 2013   \n",
       "1  One thing to be said about Japanese horror/ext...  11 19, 2003   \n",
       "2  Michelle Pfeiffer gives a brilliant performanc...  02 13, 2008   \n",
       "3  I wanted to see &quot;The Missing&quot; when i...  06 18, 2004   \n",
       "4  I think &#34;Miss Congeniality&#34; is a light...  10 22, 2013   \n",
       "\n",
       "       reviewerID     reviewerName  \\\n",
       "0   AMFIPCYDYWGVT           AMRDxn   \n",
       "1  A3G602Z4DWDZKS     Matthew King   \n",
       "2  A33BOYMVG3U58Y        TV Critic   \n",
       "3   ANEDXRFDZDL18     Serene Night   \n",
       "4  A1VN7IS16PY024  Amazon Customer   \n",
       "\n",
       "                                           summary  unixReviewTime  \n",
       "0                                     Entertaining      1387670400  \n",
       "1  Absolutely stunning! A battle not to be missed!      1069200000  \n",
       "2                         Michelle Pfeiffer shines      1202860800  \n",
       "3                              Hard Gritty Western      1087516800  \n",
       "4                       Very entertaining but.....      1382400000  "
      ]
     },
     "execution_count": 3,
     "metadata": {},
     "output_type": "execute_result"
    }
   ],
   "source": [
    "train_df = pd.read_json('../raw_data/reviews.training.json', lines=True, chunksize=100000)\n",
    "train_df = pd.concat(train_df)\n",
    "print('Number of rows: {}'.format(train_df.shape[0]))\n",
    "train_df.head()"
   ]
  },
  {
   "cell_type": "markdown",
   "metadata": {},
   "source": [
    "## 2. Prepare Dev Data"
   ]
  },
  {
   "cell_type": "code",
   "execution_count": 4,
   "metadata": {},
   "outputs": [],
   "source": [
    "# Keep relevant columns for merge with dev set \n",
    "train_df = train_df.filter(items=['reviewerID', 'asin', 'overall'], axis=1)"
   ]
  },
  {
   "cell_type": "code",
   "execution_count": 5,
   "metadata": {},
   "outputs": [],
   "source": [
    "train_df.to_csv('../temp_data/train_set.dev.csv', index=False)"
   ]
  },
  {
   "cell_type": "code",
   "execution_count": 6,
   "metadata": {},
   "outputs": [
    {
     "name": "stdout",
     "output_type": "stream",
     "text": [
      "123952 unique reviewers\n",
      "First 5 items: ['AMFIPCYDYWGVT' 'A3G602Z4DWDZKS' 'A33BOYMVG3U58Y' 'ANEDXRFDZDL18'\n",
      " 'A1VN7IS16PY024']\n",
      "50050 unique movies\n",
      "First 5 items: ['B0090SI56Y' 'B00005JL99' 'B00109KN0M' 'B00005JMPT' 'B00005AAA9']\n"
     ]
    }
   ],
   "source": [
    "# Find unique number of reviewers and movies\n",
    "cols = pd.unique(train_df['reviewerID'])\n",
    "ncols = cols.shape[0]\n",
    "rows = pd.unique(train_df['asin'])\n",
    "nrows = rows.shape[0]\n",
    "\n",
    "print('{} unique reviewers'.format(ncols))\n",
    "print('First 5 items: {}'.format(cols[:5]))\n",
    "print('{} unique movies'.format(nrows))\n",
    "print('First 5 items: {}'.format(rows[:5]))"
   ]
  },
  {
   "cell_type": "code",
   "execution_count": 7,
   "metadata": {},
   "outputs": [
    {
     "name": "stdout",
     "output_type": "stream",
     "text": [
      "Number of unique reviewID in train_df: 123952\n",
      "Number of unique asin in train_df: 50050\n"
     ]
    }
   ],
   "source": [
    "reviewerID = set(train_df.reviewerID)\n",
    "asin = set(train_df.asin)\n",
    "print('Number of unique reviewID in train_df: {}'.format(len(reviewerID)))\n",
    "print('Number of unique asin in train_df: {}'.format(len(asin)))"
   ]
  },
  {
   "cell_type": "code",
   "execution_count": 8,
   "metadata": {},
   "outputs": [
    {
     "name": "stdout",
     "output_type": "stream",
     "text": [
      "Number of unique reviewID in dev_df: 72853\n",
      "Number of unique asin in dev_df: 36569\n"
     ]
    }
   ],
   "source": [
    "dev_reviewerID = set(dev_df.reviewerID)\n",
    "dev_asin = set(dev_df.asin)\n",
    "print('Number of unique reviewID in dev_df: {}'.format(len(dev_reviewerID)))\n",
    "print('Number of unique asin in dev_df: {}'.format(len(dev_asin)))"
   ]
  },
  {
   "cell_type": "code",
   "execution_count": 9,
   "metadata": {},
   "outputs": [
    {
     "name": "stdout",
     "output_type": "stream",
     "text": [
      "reviewerID's not present in train_df: {'A3UV0B32X7H4GC', 'AJSM8QWA4B8IP', 'A150UCGE9QID39', 'A3G6PW095IFNN5', 'AZTYHKV3MI0YL', 'A3E9C95QHGYKWH', 'A2VGI69KIN0AAH', 'A1D3L5ICB2KE0F'}\n",
      "asin's not present in train_df: {'B004A30AW6'}\n"
     ]
    }
   ],
   "source": [
    "diff_reviewer_ID = dev_reviewerID.difference(reviewerID)\n",
    "diff_asin = dev_asin.difference(asin)\n",
    "print('reviewerID\\'s not present in train_df: {}'.format(diff_reviewer_ID))\n",
    "print('asin\\'s not present in train_df: {}'.format(diff_asin))"
   ]
  },
  {
   "cell_type": "code",
   "execution_count": 10,
   "metadata": {},
   "outputs": [
    {
     "name": "stdout",
     "output_type": "stream",
     "text": [
      "Number of rows to remove: 29\n",
      "Number of rows in dev_df after drop: 169724\n"
     ]
    }
   ],
   "source": [
    "remove_cols = dev_df.loc[dev_df['reviewerID'].isin(diff_reviewer_ID) | dev_df['asin'].isin(diff_asin)].index.tolist()\n",
    "print('Number of rows to remove: {}'.format(len(remove_cols)))\n",
    "dev_df.drop(remove_cols, axis=0, inplace=True)\n",
    "print('Number of rows in dev_df after drop: {}'.format(dev_df.shape[0]))"
   ]
  },
  {
   "cell_type": "code",
   "execution_count": 11,
   "metadata": {},
   "outputs": [],
   "source": [
    "dev_df.to_csv('../temp_data/dev_set.dev.csv', index=False)"
   ]
  },
  {
   "cell_type": "code",
   "execution_count": 12,
   "metadata": {},
   "outputs": [
    {
     "data": {
      "image/png": "[encoded data removed]",
      "text/plain": [
       "<Figure size 1080x720 with 1 Axes>"
      ]
     },
     "metadata": {},
     "output_type": "display_data"
    }
   ],
   "source": [
    "# Configure plot style \n",
    "sns.set(style='darkgrid', palette='husl', font_scale=1.5)\n",
    "plt.figure(figsize=(15,10))\n",
    "\n",
    "# Create plot\n",
    "g = sns.countplot(x='overall', data=train_df)\n",
    "\n",
    "# Add plot labels \n",
    "g.set_xlabel('Ratings', fontsize=20)\n",
    "g.set_ylabel('Count', fontsize=20)\n",
    "g.axes.set_title('Distribution of ratings', fontsize=30)\n",
    "for p in g.patches:\n",
    "    g.annotate('{}'.format(p.get_height()), (p.get_x()+0.2, p.get_height()))\n",
    "\n",
    "# Save File\n",
    "fig = g.get_figure()\n",
    "fig.savefig('../images/{}.png'.format('distribution_of_ratings'))"
   ]
  },
  {
   "cell_type": "markdown",
   "metadata": {},
   "source": [
    "Distribution of ratings seem to be left skewed and mostly high. "
   ]
  },
  {
   "cell_type": "code",
   "execution_count": 14,
   "metadata": {},
   "outputs": [
    {
     "data": {
      "image/png": "[encoded data removed]",
      "text/plain": [
       "<Figure size 1080x720 with 1 Axes>"
      ]
     },
     "metadata": {},
     "output_type": "display_data"
    }
   ],
   "source": [
    "plt.figure(figsize=(15,10))\n",
    "\n",
    "# Create plot\n",
    "g = sns.distplot(train_df['asin'].value_counts().tolist())\n",
    "\n",
    "# Add plot labels \n",
    "g.set_xlabel('Review Count', fontsize=20)\n",
    "g.set_ylabel('Frequency', fontsize=20)\n",
    "g.axes.set_title('Distribution of Review Counts', fontsize=30)\n",
    "\n",
    "# Save File\n",
    "fig = g.get_figure()\n",
    "fig.savefig('../images/{}.png'.format('distribution_of_review_counts'))"
   ]
  },
  {
   "cell_type": "markdown",
   "metadata": {},
   "source": [
    "The distribution of review counts is very right skewed. There are 50050 unique movie titles and 123952 reviewers in the movie ratings data. If every reviewer were to rate every movie, each movie would get 123952 reviews which would be a total of 6203797600 reviews. However, in our data there are only 1358026 reviews, and our histogram reveals that most films only have a few hundred reviews. If we were to represent this as a dense movie x reviewer matrix, it will result in many cells with 0's, therefore it is better to represent this using a sparse matrix. "
   ]
  },
  {
   "cell_type": "markdown",
   "metadata": {},
   "source": [
    "## 3. Make sparse matrix"
   ]
  },
  {
   "cell_type": "code",
   "execution_count": 12,
   "metadata": {},
   "outputs": [],
   "source": [
    "# Set triplet data for sparse matrix\n",
    "# Convert the values in columns reviewerID and asin to obtain numeric representation\n",
    "row_indices, row_uniques = pd.factorize(train_df['asin'])\n",
    "col_indices, col_uniques = pd.factorize(train_df['reviewerID'])\n",
    "val = train_df['overall']\n",
    "\n",
    "# Create COO matrix from three arrays \n",
    "train_coo_matrix = sparse.coo_matrix((val, (row_indices, col_indices)))"
   ]
  },
  {
   "cell_type": "code",
   "execution_count": 13,
   "metadata": {},
   "outputs": [
    {
     "name": "stdout",
     "output_type": "stream",
     "text": [
      "Sparse matrix has following dimensions: (50050, 123952)\n",
      "Number of stored values: 1358026\n"
     ]
    }
   ],
   "source": [
    "print('Sparse matrix has following dimensions: {}'.format(train_coo_matrix.shape))\n",
    "print('Number of stored values: {}'.format(train_coo_matrix.nnz))"
   ]
  },
  {
   "cell_type": "code",
   "execution_count": 14,
   "metadata": {},
   "outputs": [],
   "source": [
    "sparse.save_npz('../temp_data/movie_reviews.dev.npz', train_coo_matrix)"
   ]
  },
  {
   "cell_type": "markdown",
   "metadata": {},
   "source": [
    "## 4. Map index to asin and reviewerID"
   ]
  },
  {
   "cell_type": "code",
   "execution_count": 15,
   "metadata": {},
   "outputs": [],
   "source": [
    "row_index_to_movies = {k: v for k, v in zip(row_uniques, pd.unique(row_indices))}\n",
    "col_index_to_reviewer = {k: v for k, v in zip(col_uniques, pd.unique(col_indices))}"
   ]
  },
  {
   "cell_type": "code",
   "execution_count": 16,
   "metadata": {},
   "outputs": [],
   "source": [
    "with open('../temp_data/movie_index_map.dev.p', 'wb') as fp:\n",
    "    pickle.dump(row_index_to_movies, fp, protocol=pickle.HIGHEST_PROTOCOL)"
   ]
  },
  {
   "cell_type": "code",
   "execution_count": 17,
   "metadata": {},
   "outputs": [],
   "source": [
    "with open('../temp_data/reviewer_index_map.dev.p', 'wb') as fp:\n",
    "    pickle.dump(col_index_to_reviewer, fp, protocol=pickle.HIGHEST_PROTOCOL)"
   ]
  },
  {
   "cell_type": "markdown",
   "metadata": {},
   "source": [
    "## 5. Prepare Full Data"
   ]
  },
  {
   "cell_type": "code",
   "execution_count": 21,
   "metadata": {},
   "outputs": [
    {
     "name": "stdout",
     "output_type": "stream",
     "text": [
      "Number of rows: 169753\n"
     ]
    },
    {
     "data": {
      "text/html": [
       "<div>\n",
       "<style scoped>\n",
       "    .dataframe tbody tr th:only-of-type {\n",
       "        vertical-align: middle;\n",
       "    }\n",
       "\n",
       "    .dataframe tbody tr th {\n",
       "        vertical-align: top;\n",
       "    }\n",
       "\n",
       "    .dataframe thead th {\n",
       "        text-align: right;\n",
       "    }\n",
       "</style>\n",
       "<table border=\"1\" class=\"dataframe\">\n",
       "  <thead>\n",
       "    <tr style=\"text-align: right;\">\n",
       "      <th></th>\n",
       "      <th>reviewerID</th>\n",
       "      <th>asin</th>\n",
       "      <th>overall</th>\n",
       "    </tr>\n",
       "  </thead>\n",
       "  <tbody>\n",
       "    <tr>\n",
       "      <th>0</th>\n",
       "      <td>A34DNO6UAH67Z0</td>\n",
       "      <td>B000CDSS22</td>\n",
       "      <td>5</td>\n",
       "    </tr>\n",
       "    <tr>\n",
       "      <th>1</th>\n",
       "      <td>A3APW42N5MRVWT</td>\n",
       "      <td>6305186774</td>\n",
       "      <td>2</td>\n",
       "    </tr>\n",
       "    <tr>\n",
       "      <th>2</th>\n",
       "      <td>A20D9VGCF3P13L</td>\n",
       "      <td>B004LWZW24</td>\n",
       "      <td>5</td>\n",
       "    </tr>\n",
       "    <tr>\n",
       "      <th>3</th>\n",
       "      <td>A82LIVYSX6WZ9</td>\n",
       "      <td>B00001U0DM</td>\n",
       "      <td>3</td>\n",
       "    </tr>\n",
       "    <tr>\n",
       "      <th>4</th>\n",
       "      <td>A3LRKDF5WU4ZDO</td>\n",
       "      <td>B00005JOZI</td>\n",
       "      <td>3</td>\n",
       "    </tr>\n",
       "  </tbody>\n",
       "</table>\n",
       "</div>"
      ],
      "text/plain": [
       "       reviewerID        asin  overall\n",
       "0  A34DNO6UAH67Z0  B000CDSS22        5\n",
       "1  A3APW42N5MRVWT  6305186774        2\n",
       "2  A20D9VGCF3P13L  B004LWZW24        5\n",
       "3   A82LIVYSX6WZ9  B00001U0DM        3\n",
       "4  A3LRKDF5WU4ZDO  B00005JOZI        3"
      ]
     },
     "execution_count": 21,
     "metadata": {},
     "output_type": "execute_result"
    }
   ],
   "source": [
    "# Load dev set again as we removed items from it previously\n",
    "dev_df = pd.read_csv('../raw_data/reviews.dev.csv')\n",
    "print('Number of rows: {}'.format(dev_df.shape[0]))\n",
    "dev_df.head()"
   ]
  },
  {
   "cell_type": "code",
   "execution_count": 22,
   "metadata": {},
   "outputs": [
    {
     "name": "stdout",
     "output_type": "stream",
     "text": [
      "Number of rows: 1527779\n"
     ]
    },
    {
     "data": {
      "text/html": [
       "<div>\n",
       "<style scoped>\n",
       "    .dataframe tbody tr th:only-of-type {\n",
       "        vertical-align: middle;\n",
       "    }\n",
       "\n",
       "    .dataframe tbody tr th {\n",
       "        vertical-align: top;\n",
       "    }\n",
       "\n",
       "    .dataframe thead th {\n",
       "        text-align: right;\n",
       "    }\n",
       "</style>\n",
       "<table border=\"1\" class=\"dataframe\">\n",
       "  <thead>\n",
       "    <tr style=\"text-align: right;\">\n",
       "      <th></th>\n",
       "      <th>reviewerID</th>\n",
       "      <th>asin</th>\n",
       "      <th>overall</th>\n",
       "    </tr>\n",
       "  </thead>\n",
       "  <tbody>\n",
       "    <tr>\n",
       "      <th>0</th>\n",
       "      <td>AMFIPCYDYWGVT</td>\n",
       "      <td>B0090SI56Y</td>\n",
       "      <td>4</td>\n",
       "    </tr>\n",
       "    <tr>\n",
       "      <th>1</th>\n",
       "      <td>A3G602Z4DWDZKS</td>\n",
       "      <td>B00005JL99</td>\n",
       "      <td>5</td>\n",
       "    </tr>\n",
       "    <tr>\n",
       "      <th>2</th>\n",
       "      <td>A33BOYMVG3U58Y</td>\n",
       "      <td>B00109KN0M</td>\n",
       "      <td>5</td>\n",
       "    </tr>\n",
       "    <tr>\n",
       "      <th>3</th>\n",
       "      <td>ANEDXRFDZDL18</td>\n",
       "      <td>B00005JMPT</td>\n",
       "      <td>5</td>\n",
       "    </tr>\n",
       "    <tr>\n",
       "      <th>4</th>\n",
       "      <td>A1VN7IS16PY024</td>\n",
       "      <td>B00005AAA9</td>\n",
       "      <td>4</td>\n",
       "    </tr>\n",
       "  </tbody>\n",
       "</table>\n",
       "</div>"
      ],
      "text/plain": [
       "       reviewerID        asin  overall\n",
       "0   AMFIPCYDYWGVT  B0090SI56Y        4\n",
       "1  A3G602Z4DWDZKS  B00005JL99        5\n",
       "2  A33BOYMVG3U58Y  B00109KN0M        5\n",
       "3   ANEDXRFDZDL18  B00005JMPT        5\n",
       "4  A1VN7IS16PY024  B00005AAA9        4"
      ]
     },
     "execution_count": 22,
     "metadata": {},
     "output_type": "execute_result"
    }
   ],
   "source": [
    "full_train_df = pd.concat([train_df, dev_df])\n",
    "print('Number of rows: {}'.format(full_train_df.shape[0]))\n",
    "full_train_df.head()"
   ]
  },
  {
   "cell_type": "code",
   "execution_count": 23,
   "metadata": {},
   "outputs": [],
   "source": [
    "full_train_df.to_csv('../temp_data/full_train_set.csv', index=False)"
   ]
  },
  {
   "cell_type": "code",
   "execution_count": 24,
   "metadata": {},
   "outputs": [
    {
     "name": "stdout",
     "output_type": "stream",
     "text": [
      "123960 unique reviewers\n",
      "First 5 items: ['AMFIPCYDYWGVT' 'A3G602Z4DWDZKS' 'A33BOYMVG3U58Y' 'ANEDXRFDZDL18'\n",
      " 'A1VN7IS16PY024']\n",
      "50051 unique movies\n",
      "First 5 items: ['B0090SI56Y' 'B00005JL99' 'B00109KN0M' 'B00005JMPT' 'B00005AAA9']\n"
     ]
    }
   ],
   "source": [
    "# Find unique number of reviewers and movies\n",
    "cols = pd.unique(full_train_df['reviewerID'])\n",
    "ncols = cols.shape[0]\n",
    "rows = pd.unique(full_train_df['asin'])\n",
    "nrows = rows.shape[0]\n",
    "\n",
    "print('{} unique reviewers'.format(ncols))\n",
    "print('First 5 items: {}'.format(cols[:5]))\n",
    "print('{} unique movies'.format(nrows))\n",
    "print('First 5 items: {}'.format(rows[:5]))"
   ]
  },
  {
   "cell_type": "markdown",
   "metadata": {},
   "source": [
    "By combining the dev set with the train set, we have gained 8 new reviewers and 1 new movie. "
   ]
  },
  {
   "cell_type": "markdown",
   "metadata": {},
   "source": [
    "## 6. Make sparse matrix"
   ]
  },
  {
   "cell_type": "code",
   "execution_count": 25,
   "metadata": {},
   "outputs": [],
   "source": [
    "# Set triplet data for sparse matrix\n",
    "# Convert the values in columns reviewerID and asin to obtain numeric representation\n",
    "row_indices, row_uniques = pd.factorize(full_train_df['asin'])\n",
    "col_indices, col_uniques = pd.factorize(full_train_df['reviewerID'])\n",
    "val = full_train_df['overall']\n",
    "\n",
    "# Create COO matrix from three arrays \n",
    "train_coo_matrix = sparse.coo_matrix((val, (row_indices, col_indices)))"
   ]
  },
  {
   "cell_type": "code",
   "execution_count": 26,
   "metadata": {},
   "outputs": [
    {
     "name": "stdout",
     "output_type": "stream",
     "text": [
      "Sparse matrix has following dimensions: (50051, 123960)\n",
      "Number of stored values: 1527779\n"
     ]
    }
   ],
   "source": [
    "print('Sparse matrix has following dimensions: {}'.format(train_coo_matrix.shape))\n",
    "print('Number of stored values: {}'.format(train_coo_matrix.nnz))"
   ]
  },
  {
   "cell_type": "code",
   "execution_count": 27,
   "metadata": {},
   "outputs": [],
   "source": [
    "sparse.save_npz('../temp_data/movie_reviews.npz', train_coo_matrix)"
   ]
  },
  {
   "cell_type": "markdown",
   "metadata": {},
   "source": [
    "## 7. Map index to asin and reviewerID"
   ]
  },
  {
   "cell_type": "code",
   "execution_count": 28,
   "metadata": {},
   "outputs": [],
   "source": [
    "row_index_to_movies = {k: v for k, v in zip(row_uniques, pd.unique(row_indices))}\n",
    "col_index_to_reviewer = {k: v for k, v in zip(col_uniques, pd.unique(col_indices))}"
   ]
  },
  {
   "cell_type": "code",
   "execution_count": 29,
   "metadata": {},
   "outputs": [],
   "source": [
    "with open('../temp_data/movie_index_map.p', 'wb') as fp:\n",
    "    pickle.dump(row_index_to_movies, fp, protocol=pickle.HIGHEST_PROTOCOL)"
   ]
  },
  {
   "cell_type": "code",
   "execution_count": 30,
   "metadata": {},
   "outputs": [],
   "source": [
    "with open('../temp_data/reviewer_index_map.p', 'wb') as fp:\n",
    "    pickle.dump(col_index_to_reviewer, fp, protocol=pickle.HIGHEST_PROTOCOL)"
   ]
  },
  {
   "cell_type": "code",
   "execution_count": null,
   "metadata": {},
   "outputs": [],
   "source": []
  }
 ],
 "metadata": {
  "kernelspec": {
   "display_name": "Python 3",
   "language": "python",
   "name": "python3"
  },
  "language_info": {
   "codemirror_mode": {
    "name": "ipython",
    "version": 3
   },
   "file_extension": ".py",
   "mimetype": "text/x-python",
   "name": "python",
   "nbconvert_exporter": "python",
   "pygments_lexer": "ipython3",
   "version": "3.7.0"
  }
 },
 "nbformat": 4,
 "nbformat_minor": 2
}
