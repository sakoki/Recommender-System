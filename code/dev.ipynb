{
 "cells": [
  {
   "cell_type": "markdown",
   "metadata": {},
   "source": [
    "# Rating Predictions (Development)\n",
    "*Author: Koki Sasagawa*  \n",
    "*Date: 10/8/2018* \n",
    "\n",
    "## Task\n",
    "Build a recommendation system that predicts a rating on the scale of 1 to 5 for a given user product. Collaborative filtering models are based on the idea that people tend to like things that are similar to other things they like, and things that are liked by other people that share similar preferences. \n",
    "\n",
    "2 approaches: \n",
    "- Memory based approach cosine similarity and weighted averages of ratings\n",
    "- Model based approach using SVD for matrix factorization\n",
    "\n",
    "## Running the notebook\n",
    "This notebook requires `predictions.py`, `evaluations.py`, and `decorators.py` files"
   ]
  },
  {
   "cell_type": "code",
   "execution_count": 65,
   "metadata": {},
   "outputs": [],
   "source": [
    "import os\n",
    "import pickle \n",
    "import pandas as pd\n",
    "import numpy as np\n",
    "import matplotlib.pyplot as plt\n",
    "import seaborn as sns\n",
    "from scipy import sparse\n",
    "from sklearn.metrics.pairwise import cosine_similarity\n",
    "from surprise import SVD, SlopeOne, Dataset, Reader\n",
    "from surprise.model_selection import GridSearchCV, cross_validate\n",
    "\n",
    "from predictions import baseline, collaborative_filter_predictions\n",
    "from evaluations import rmse_test\n",
    "from decorators import timer \n",
    "\n",
    "%matplotlib inline"
   ]
  },
  {
   "cell_type": "markdown",
   "metadata": {},
   "source": [
    "## 1. Load files"
   ]
  },
  {
   "cell_type": "code",
   "execution_count": 2,
   "metadata": {},
   "outputs": [
    {
     "name": "stdout",
     "output_type": "stream",
     "text": [
      "Number of rows: 169724\n"
     ]
    },
    {
     "data": {
      "text/html": [
       "<div>\n",
       "<style scoped>\n",
       "    .dataframe tbody tr th:only-of-type {\n",
       "        vertical-align: middle;\n",
       "    }\n",
       "\n",
       "    .dataframe tbody tr th {\n",
       "        vertical-align: top;\n",
       "    }\n",
       "\n",
       "    .dataframe thead th {\n",
       "        text-align: right;\n",
       "    }\n",
       "</style>\n",
       "<table border=\"1\" class=\"dataframe\">\n",
       "  <thead>\n",
       "    <tr style=\"text-align: right;\">\n",
       "      <th></th>\n",
       "      <th>reviewerID</th>\n",
       "      <th>asin</th>\n",
       "      <th>overall</th>\n",
       "    </tr>\n",
       "  </thead>\n",
       "  <tbody>\n",
       "    <tr>\n",
       "      <th>0</th>\n",
       "      <td>A34DNO6UAH67Z0</td>\n",
       "      <td>B000CDSS22</td>\n",
       "      <td>5</td>\n",
       "    </tr>\n",
       "    <tr>\n",
       "      <th>1</th>\n",
       "      <td>A3APW42N5MRVWT</td>\n",
       "      <td>6305186774</td>\n",
       "      <td>2</td>\n",
       "    </tr>\n",
       "    <tr>\n",
       "      <th>2</th>\n",
       "      <td>A20D9VGCF3P13L</td>\n",
       "      <td>B004LWZW24</td>\n",
       "      <td>5</td>\n",
       "    </tr>\n",
       "    <tr>\n",
       "      <th>3</th>\n",
       "      <td>A82LIVYSX6WZ9</td>\n",
       "      <td>B00001U0DM</td>\n",
       "      <td>3</td>\n",
       "    </tr>\n",
       "    <tr>\n",
       "      <th>4</th>\n",
       "      <td>A3LRKDF5WU4ZDO</td>\n",
       "      <td>B00005JOZI</td>\n",
       "      <td>3</td>\n",
       "    </tr>\n",
       "  </tbody>\n",
       "</table>\n",
       "</div>"
      ],
      "text/plain": [
       "       reviewerID        asin  overall\n",
       "0  A34DNO6UAH67Z0  B000CDSS22        5\n",
       "1  A3APW42N5MRVWT  6305186774        2\n",
       "2  A20D9VGCF3P13L  B004LWZW24        5\n",
       "3   A82LIVYSX6WZ9  B00001U0DM        3\n",
       "4  A3LRKDF5WU4ZDO  B00005JOZI        3"
      ]
     },
     "execution_count": 2,
     "metadata": {},
     "output_type": "execute_result"
    }
   ],
   "source": [
    "dev_df = pd.read_csv('../temp_data/dev_set.dev.csv')\n",
    "print('Number of rows: {}'.format(dev_df.shape[0]))\n",
    "dev_df.head()"
   ]
  },
  {
   "cell_type": "code",
   "execution_count": 3,
   "metadata": {},
   "outputs": [
    {
     "name": "stdout",
     "output_type": "stream",
     "text": [
      "Number of rows: 1358026\n"
     ]
    },
    {
     "data": {
      "text/html": [
       "<div>\n",
       "<style scoped>\n",
       "    .dataframe tbody tr th:only-of-type {\n",
       "        vertical-align: middle;\n",
       "    }\n",
       "\n",
       "    .dataframe tbody tr th {\n",
       "        vertical-align: top;\n",
       "    }\n",
       "\n",
       "    .dataframe thead th {\n",
       "        text-align: right;\n",
       "    }\n",
       "</style>\n",
       "<table border=\"1\" class=\"dataframe\">\n",
       "  <thead>\n",
       "    <tr style=\"text-align: right;\">\n",
       "      <th></th>\n",
       "      <th>reviewerID</th>\n",
       "      <th>asin</th>\n",
       "      <th>overall</th>\n",
       "    </tr>\n",
       "  </thead>\n",
       "  <tbody>\n",
       "    <tr>\n",
       "      <th>0</th>\n",
       "      <td>AMFIPCYDYWGVT</td>\n",
       "      <td>B0090SI56Y</td>\n",
       "      <td>4</td>\n",
       "    </tr>\n",
       "    <tr>\n",
       "      <th>1</th>\n",
       "      <td>A3G602Z4DWDZKS</td>\n",
       "      <td>B00005JL99</td>\n",
       "      <td>5</td>\n",
       "    </tr>\n",
       "    <tr>\n",
       "      <th>2</th>\n",
       "      <td>A33BOYMVG3U58Y</td>\n",
       "      <td>B00109KN0M</td>\n",
       "      <td>5</td>\n",
       "    </tr>\n",
       "    <tr>\n",
       "      <th>3</th>\n",
       "      <td>ANEDXRFDZDL18</td>\n",
       "      <td>B00005JMPT</td>\n",
       "      <td>5</td>\n",
       "    </tr>\n",
       "    <tr>\n",
       "      <th>4</th>\n",
       "      <td>A1VN7IS16PY024</td>\n",
       "      <td>B00005AAA9</td>\n",
       "      <td>4</td>\n",
       "    </tr>\n",
       "  </tbody>\n",
       "</table>\n",
       "</div>"
      ],
      "text/plain": [
       "       reviewerID        asin  overall\n",
       "0   AMFIPCYDYWGVT  B0090SI56Y        4\n",
       "1  A3G602Z4DWDZKS  B00005JL99        5\n",
       "2  A33BOYMVG3U58Y  B00109KN0M        5\n",
       "3   ANEDXRFDZDL18  B00005JMPT        5\n",
       "4  A1VN7IS16PY024  B00005AAA9        4"
      ]
     },
     "execution_count": 3,
     "metadata": {},
     "output_type": "execute_result"
    }
   ],
   "source": [
    "train_df = pd.read_csv('../temp_data/train_set.dev.csv', index_col=False)\n",
    "print('Number of rows: {}'.format(train_df.shape[0]))\n",
    "train_df.head()"
   ]
  },
  {
   "cell_type": "code",
   "execution_count": 4,
   "metadata": {},
   "outputs": [
    {
     "name": "stdout",
     "output_type": "stream",
     "text": [
      "Sparse matrix dimensions: (50050, 123952)\n",
      "Number of stored values: 1358026\n",
      "Matrix type: <class 'scipy.sparse.csr.csr_matrix'>\n"
     ]
    }
   ],
   "source": [
    "train_matrix = sparse.load_npz('../temp_data/movie_reviews.dev.npz')\n",
    "print('Sparse matrix dimensions: {}'.format(train_matrix.shape))\n",
    "print('Number of stored values: {}'.format(train_matrix.nnz))\n",
    "\n",
    "# Covert to sparse row format \n",
    "train_matrix = train_matrix.tocsr()\n",
    "print('Matrix type: {}'.format((type(train_matrix))))"
   ]
  },
  {
   "cell_type": "code",
   "execution_count": 5,
   "metadata": {},
   "outputs": [
    {
     "name": "stdout",
     "output_type": "stream",
     "text": [
      "Number of row indexes: 50050\n"
     ]
    }
   ],
   "source": [
    "with open('../temp_data/movie_index_map.dev.p', 'rb') as fp:\n",
    "    row_index_to_movies = pickle.load(fp)\n",
    "    \n",
    "print('Number of row indexes: {}'.format(len(row_index_to_movies)))"
   ]
  },
  {
   "cell_type": "code",
   "execution_count": 6,
   "metadata": {},
   "outputs": [
    {
     "name": "stdout",
     "output_type": "stream",
     "text": [
      "Number of col indexes: 123952\n"
     ]
    }
   ],
   "source": [
    "with open('../temp_data/reviewer_index_map.dev.p', 'rb') as fp:\n",
    "    col_index_to_reviewer = pickle.load(fp)\n",
    "    \n",
    "print('Number of col indexes: {}'.format(len(col_index_to_reviewer)))"
   ]
  },
  {
   "cell_type": "markdown",
   "metadata": {},
   "source": [
    "## 2. Baseline Predictions\n",
    "\n",
    "baseline prediction calculated using the following equation:\n",
    "\n",
    "$r = u + b_x + b_i$\n",
    "\n",
    "Where:  \n",
    "$u$ = overall mean rating  \n",
    "$b_x$ = rating deviation of reviewer (ave rating of reviewer - u)  \n",
    "$b_i$ = rating deviation of movie (ave rating of movie - u)"
   ]
  },
  {
   "cell_type": "code",
   "execution_count": 27,
   "metadata": {},
   "outputs": [],
   "source": [
    "predictions = []\n",
    "\n",
    "for i in dev_df.itertuples():\n",
    "    reviewer = i[1]\n",
    "    movie = i[2]\n",
    "\n",
    "    # Retrieve index of reviewer and movie \n",
    "    reviewer = col_index_to_reviewer.get(reviewer, False)\n",
    "    movie = row_index_to_movies.get(movie, False)\n",
    "\n",
    "    # Make prediction if reviewer and movie exist in training set\n",
    "    if reviewer and movie: \n",
    "        predictions.append(baseline(r_idx=reviewer, m_idx=movie, sparse_matrix=train_matrix))\n",
    "    else:\n",
    "        predictions.append(0)"
   ]
  },
  {
   "cell_type": "code",
   "execution_count": 29,
   "metadata": {},
   "outputs": [],
   "source": [
    "# Save predictions \n",
    "baseline_predictions = pd.DataFrame({'reviewer': dev_df['reviewerID'],\n",
    "                                     'movie': dev_df['asin'],\n",
    "                                     'predicted_values': predictions})\n",
    "\n",
    "baseline_predictions.to_csv('../output/baseline_predictions.dev.csv', index=False)"
   ]
  },
  {
   "cell_type": "code",
   "execution_count": 30,
   "metadata": {},
   "outputs": [
    {
     "data": {
      "text/html": [
       "<div>\n",
       "<style scoped>\n",
       "    .dataframe tbody tr th:only-of-type {\n",
       "        vertical-align: middle;\n",
       "    }\n",
       "\n",
       "    .dataframe tbody tr th {\n",
       "        vertical-align: top;\n",
       "    }\n",
       "\n",
       "    .dataframe thead th {\n",
       "        text-align: right;\n",
       "    }\n",
       "</style>\n",
       "<table border=\"1\" class=\"dataframe\">\n",
       "  <thead>\n",
       "    <tr style=\"text-align: right;\">\n",
       "      <th></th>\n",
       "      <th>reviewer</th>\n",
       "      <th>movie</th>\n",
       "      <th>predicted_values</th>\n",
       "    </tr>\n",
       "  </thead>\n",
       "  <tbody>\n",
       "    <tr>\n",
       "      <th>0</th>\n",
       "      <td>A34DNO6UAH67Z0</td>\n",
       "      <td>B000CDSS22</td>\n",
       "      <td>5.541179</td>\n",
       "    </tr>\n",
       "    <tr>\n",
       "      <th>1</th>\n",
       "      <td>A3APW42N5MRVWT</td>\n",
       "      <td>6305186774</td>\n",
       "      <td>3.703254</td>\n",
       "    </tr>\n",
       "    <tr>\n",
       "      <th>2</th>\n",
       "      <td>A20D9VGCF3P13L</td>\n",
       "      <td>B004LWZW24</td>\n",
       "      <td>4.115846</td>\n",
       "    </tr>\n",
       "    <tr>\n",
       "      <th>3</th>\n",
       "      <td>A82LIVYSX6WZ9</td>\n",
       "      <td>B00001U0DM</td>\n",
       "      <td>1.494133</td>\n",
       "    </tr>\n",
       "    <tr>\n",
       "      <th>4</th>\n",
       "      <td>A3LRKDF5WU4ZDO</td>\n",
       "      <td>B00005JOZI</td>\n",
       "      <td>4.529005</td>\n",
       "    </tr>\n",
       "  </tbody>\n",
       "</table>\n",
       "</div>"
      ],
      "text/plain": [
       "         reviewer       movie  predicted_values\n",
       "0  A34DNO6UAH67Z0  B000CDSS22          5.541179\n",
       "1  A3APW42N5MRVWT  6305186774          3.703254\n",
       "2  A20D9VGCF3P13L  B004LWZW24          4.115846\n",
       "3   A82LIVYSX6WZ9  B00001U0DM          1.494133\n",
       "4  A3LRKDF5WU4ZDO  B00005JOZI          4.529005"
      ]
     },
     "execution_count": 30,
     "metadata": {},
     "output_type": "execute_result"
    }
   ],
   "source": [
    "baseline_predictions.head()"
   ]
  },
  {
   "cell_type": "code",
   "execution_count": 31,
   "metadata": {},
   "outputs": [
    {
     "name": "stdout",
     "output_type": "stream",
     "text": [
      "Baseline RMSE Score: 1.07407\n"
     ]
    }
   ],
   "source": [
    "baseline_rmse = rmse_test(predicted_data=baseline_predictions['predicted_values'], true_data=dev_df['overall'])\n",
    "print('Baseline RMSE Score: {:.5f}'.format(baseline_rmse))"
   ]
  },
  {
   "cell_type": "markdown",
   "metadata": {},
   "source": [
    "## 2. Memory based approach via Cosine Similarity"
   ]
  },
  {
   "cell_type": "markdown",
   "metadata": {},
   "source": [
    "### 2.a. Get cosine similarity scores of movies"
   ]
  },
  {
   "cell_type": "code",
   "execution_count": 7,
   "metadata": {},
   "outputs": [
    {
     "name": "stdout",
     "output_type": "stream",
     "text": [
      "Matrix shape: (50050, 50050)\n"
     ]
    }
   ],
   "source": [
    "# Cosine similarity of movies\n",
    "sim_scores = cosine_similarity(train_matrix, dense_output=False)\n",
    "print('Matrix shape: {}'.format(sim_scores.shape))"
   ]
  },
  {
   "cell_type": "markdown",
   "metadata": {},
   "source": [
    "### 2.b. Plot distribution of similarity scores "
   ]
  },
  {
   "cell_type": "code",
   "execution_count": 9,
   "metadata": {},
   "outputs": [
    {
     "name": "stderr",
     "output_type": "stream",
     "text": [
      "/Users/koki/Documents/Learning/UMICH_course_material/SI_671_Data_Mining/lib/python3.7/site-packages/scipy/stats/stats.py:1713: FutureWarning: Using a non-tuple sequence for multidimensional indexing is deprecated; use `arr[tuple(seq)]` instead of `arr[seq]`. In the future this will be interpreted as an array index, `arr[np.array(seq)]`, which will result either in an error or a different result.\n",
      "  return np.add.reduce(sorted[indexer] * weights, axis=axis) / sumval\n"
     ]
    },
    {
     "data": {
      "image/png": "[encoded data removed]",
      "text/plain": [
       "<Figure size 1080x720 with 1 Axes>"
      ]
     },
     "metadata": {},
     "output_type": "display_data"
    }
   ],
   "source": [
    "sns.set(style='darkgrid', palette='husl', font_scale=1.5)\n",
    "plt.figure(figsize=(15,10))\n",
    "\n",
    "# Create plot\n",
    "g = sns.distplot(sim_scores.data)\n",
    "\n",
    "# Add plot labels \n",
    "g.set_xlabel('Cosine Similarity Scores', fontsize=20)\n",
    "g.set_ylabel('Frequency', fontsize=20)\n",
    "g.axes.set_title('Distribution of Cosine Similarity', fontsize=30)\n",
    "\n",
    "# Save File\n",
    "fig = g.get_figure()\n",
    "fig.savefig('../images/{}.png'.format('distribution_of_cosine_similarity'))"
   ]
  },
  {
   "cell_type": "markdown",
   "metadata": {},
   "source": [
    "The distribution of cosine similarity scores is very right skewed. Most movies have very low similarity scores below 0.2. Due to low similarity scores, using the ratings given to movies with low similarity scores to estimate the ratings of our target movie many not be as accurate."
   ]
  },
  {
   "cell_type": "markdown",
   "metadata": {},
   "source": [
    "### 2.c. Make predictions"
   ]
  },
  {
   "cell_type": "code",
   "execution_count": 8,
   "metadata": {},
   "outputs": [],
   "source": [
    "# Add timer decorator to measure runtime\n",
    "collaborative_filter_predictions = timer(collaborative_filter_predictions)"
   ]
  },
  {
   "cell_type": "code",
   "execution_count": 9,
   "metadata": {},
   "outputs": [
    {
     "name": "stdout",
     "output_type": "stream",
     "text": [
      "Threshold: 0.1\n",
      "Running collaborative_filter_predictions...\n",
      "Finished in 1176.2207s\n",
      "RMSE: 1.1060193002937566\n",
      "Threshold: 0.15\n",
      "Running collaborative_filter_predictions...\n",
      "Finished in 1073.0926s\n",
      "RMSE: 1.086892983853646\n",
      "Threshold: 0.2\n",
      "Running collaborative_filter_predictions...\n",
      "Finished in 1046.7206s\n",
      "RMSE: 1.078851696365575\n",
      "Threshold: 0.25\n",
      "Running collaborative_filter_predictions...\n",
      "Finished in 1125.4014s\n",
      "RMSE: 1.0761124794899433\n",
      "Threshold: 0.3\n",
      "Running collaborative_filter_predictions...\n",
      "Finished in 1331.9301s\n",
      "RMSE: 1.0749122667817925\n"
     ]
    }
   ],
   "source": [
    "# Generate CF predictions at varying thresholds \n",
    "threshold = [0.1, 0.15, 0.2, 0.25, 0.3]\n",
    "\n",
    "true_ratings = dev_df['overall'].tolist()\n",
    "\n",
    "rmse_scores = []\n",
    "\n",
    "for i in threshold:\n",
    "    print('Threshold: {}'.format(i))\n",
    "    predictions = collaborative_filter_predictions(data=dev_df,\n",
    "                                                   col_idx_map=col_index_to_reviewer,\n",
    "                                                   row_idx_map=row_index_to_movies,\n",
    "                                                   cos_sim=sim_scores,\n",
    "                                                   sparse_matrix=train_matrix,\n",
    "                                                   threshold=i)\n",
    "    \n",
    "    rmse = rmse_test(predicted_data=predictions, true_data=dev_df['overall'].tolist())\n",
    "    print('RMSE: {}'.format(rmse))\n",
    "    rmse_scores.append(rmse)"
   ]
  },
  {
   "cell_type": "markdown",
   "metadata": {},
   "source": [
    "The higher the threshold, the better the RMSE score becomes. However, it is important to recognize that higher threshold acts as a stricter filter.  Collaborative filtering takes other movies that a reviewer has rated with varying 'similarity' scores, and uses those ratings to predict a rating for a target movie. A high threshold will filter out movies with lower similarity scores, resulting in fewer movies to use for making a rating prediction. For some movies, a threshold of 0.3 may be enough to remove all movies. For these cases, we calculate the rating using the baseline algorithm instead.\n",
    "\n",
    "As we increase the threshold, the more predictions will be replaced by baseline predictions. Due to the inherent sparisty of movie-review data, collaborative filtering may not be an effective method for accurately predicting ratings. "
   ]
  },
  {
   "cell_type": "markdown",
   "metadata": {},
   "source": [
    "## 3. Model based approach using SVD for matrix factorization"
   ]
  },
  {
   "cell_type": "markdown",
   "metadata": {},
   "source": [
    "### 3.a. Gridsearch to find optimal parameters\n",
    "\n",
    "General equation: $\\hat{r}_{ui} = q^T_ip_u$\n",
    "\n",
    "Where:  \n",
    "$q_i$ = vector representing movie  \n",
    "$p_u$ = vector representing user\n",
    "\n",
    "1. Find $q_i$ and $p_u$ such that square error difference with known rating is minimum\n",
    "> $\\text{minimum}(p,q) \\sum \\limits_{(u,i) \\in K}(r_{ui} - q_i^T \\cdot p_u)^2$\n",
    "2. Regularization to introduce penalty term to make model more generalizeable and not over-fit the data.\n",
    "> $\\text{minimum}(p,q) \\sum \\limits_{(u,i) \\in K}(r_{ui} - q_i^T \\cdot p_u)^2 + \\lambda(||q_i||^2 + ||p_u||^2)$  \n",
    "> Where:  \n",
    "> $\\lambda$ = regularization factor  \n",
    "> $(||q_i||^2 + ||p_u||^2)$ = squared sum of magnitude to reviewer and movie vector\n",
    "3. Bias terms to make use of characteristics of reviewers and movies\n",
    "> $\\hat{r}_{ui} = q^T_ip_u + \\mu + b_i + b_u$  \n",
    "> $\\text{minimum}(p,q,b_i,b_u) \\sum \\limits_{(u,i) \\in K}(r_{ui} - q_i^T \\cdot p_u - \\mu - b_i - b_u)^2 + \\lambda(||q_i||^2 + ||p_u||^2 + b_i^2 + b_u^2)$  \n",
    "> Where:  \n",
    "> $\\mu$ = average ratings of all items  \n",
    "> $b_i$ = rating deviation of movie (ave rating of movie - $\\mu$)  \n",
    "> $b_u$ = rating deviation of reviewer (ave rating of review - $\\mu$)\n",
    "\n",
    "** Note: The following code block takes a while to run..."
   ]
  },
  {
   "cell_type": "code",
   "execution_count": 7,
   "metadata": {},
   "outputs": [
    {
     "name": "stdout",
     "output_type": "stream",
     "text": [
      "1.0153166312058857\n",
      "{'n_factors': 5, 'n_epochs': 80, 'lr_all': 0.003, 'reg_all': 0.15}\n"
     ]
    }
   ],
   "source": [
    "# Create Reader to tell SVD what the lower and upper bound of our ratings are\n",
    "reader = Reader(rating_scale=(1, 5))\n",
    "data = Dataset.load_from_df(train_df, reader)\n",
    "\n",
    "param_grid = {'n_factors': [5, 10, 20, 40],\n",
    "              'n_epochs': [80, 90, 100], \n",
    "              'lr_all': [0.001, 0.003, 0.005],\n",
    "              'reg_all': [0.05, 0.1, 0.15, 0.20]}\n",
    "\n",
    "gs = GridSearchCV(SVD, param_grid, measures=['rmse'], cv=3)\n",
    "gs.fit(data)\n",
    "algo = gs.best_estimator['rmse']\n",
    "print(gs.best_score['rmse'])\n",
    "print(gs.best_params['rmse'])"
   ]
  },
  {
   "cell_type": "markdown",
   "metadata": {},
   "source": [
    "### 3.b. Assess performance with 5 fold cross calidation"
   ]
  },
  {
   "cell_type": "code",
   "execution_count": 8,
   "metadata": {},
   "outputs": [
    {
     "name": "stdout",
     "output_type": "stream",
     "text": [
      "Evaluating RMSE of algorithm SVD on 5 split(s).\n",
      "\n",
      "                  Fold 1  Fold 2  Fold 3  Fold 4  Fold 5  Mean    Std     \n",
      "RMSE (testset)    1.0069  1.0085  1.0069  1.0075  1.0111  1.0082  0.0016  \n",
      "Fit time          91.93   101.80  111.24  113.55  103.50  104.40  7.66    \n",
      "Test time         2.95    3.91    3.28    3.69    4.06    3.58    0.41    \n"
     ]
    },
    {
     "data": {
      "text/plain": [
       "{'test_rmse': array([1.00690214, 1.00850411, 1.00694233, 1.00752793, 1.01113902]),\n",
       " 'fit_time': (91.92945718765259,\n",
       "  101.79539823532104,\n",
       "  111.23616003990173,\n",
       "  113.55128884315491,\n",
       "  103.5000991821289),\n",
       " 'test_time': (2.9548580646514893,\n",
       "  3.906567096710205,\n",
       "  3.284013271331787,\n",
       "  3.691129207611084,\n",
       "  4.063957929611206)}"
      ]
     },
     "execution_count": 8,
     "metadata": {},
     "output_type": "execute_result"
    }
   ],
   "source": [
    "cross_validate(algo, data, measures=['RMSE'], cv=5, verbose=True)"
   ]
  },
  {
   "cell_type": "markdown",
   "metadata": {},
   "source": [
    "### 3.c. Fit model with optimal parameters and make predictions "
   ]
  },
  {
   "cell_type": "code",
   "execution_count": 7,
   "metadata": {},
   "outputs": [],
   "source": [
    "reader = Reader(rating_scale=(1, 5))\n",
    "data = Dataset.load_from_df(train_df, reader)"
   ]
  },
  {
   "cell_type": "code",
   "execution_count": 9,
   "metadata": {},
   "outputs": [],
   "source": [
    "# Prepare data \n",
    "train_data = data.build_full_trainset()\n",
    "\n",
    "# Fit SVD model with best performing parameters \n",
    "model = SVD(n_factors=5, n_epochs=80, lr_all=0.003, reg_all=0.15)\n",
    "model.fit(train_data)\n",
    "\n",
    "# Save model\n",
    "with open('../output/SVD_model.dev.p', 'wb') as fp:\n",
    "    pickle.dump(model, fp, protocol=pickle.HIGHEST_PROTOCOL)"
   ]
  },
  {
   "cell_type": "code",
   "execution_count": 10,
   "metadata": {},
   "outputs": [],
   "source": [
    "predictions = []\n",
    "\n",
    "for i in dev_df.itertuples():\n",
    "    reviewer = i[1]\n",
    "    movie = i[2]    \n",
    "\n",
    "    predictions.append(model.predict(reviewer, movie).est)"
   ]
  },
  {
   "cell_type": "code",
   "execution_count": 11,
   "metadata": {},
   "outputs": [],
   "source": [
    "# Save predictions \n",
    "SVD_ratings = pd.DataFrame({'reviewer': dev_df['reviewerID'],\n",
    "                            'movie': dev_df['asin'],\n",
    "                            'predicted_values': predictions})\n",
    "\n",
    "SVD_ratings.to_csv('../output/SVD_predictions.dev.csv', index=False)"
   ]
  },
  {
   "cell_type": "code",
   "execution_count": 12,
   "metadata": {},
   "outputs": [
    {
     "data": {
      "text/html": [
       "<div>\n",
       "<style scoped>\n",
       "    .dataframe tbody tr th:only-of-type {\n",
       "        vertical-align: middle;\n",
       "    }\n",
       "\n",
       "    .dataframe tbody tr th {\n",
       "        vertical-align: top;\n",
       "    }\n",
       "\n",
       "    .dataframe thead th {\n",
       "        text-align: right;\n",
       "    }\n",
       "</style>\n",
       "<table border=\"1\" class=\"dataframe\">\n",
       "  <thead>\n",
       "    <tr style=\"text-align: right;\">\n",
       "      <th></th>\n",
       "      <th>reviewer</th>\n",
       "      <th>movie</th>\n",
       "      <th>predicted_values</th>\n",
       "    </tr>\n",
       "  </thead>\n",
       "  <tbody>\n",
       "    <tr>\n",
       "      <th>0</th>\n",
       "      <td>A34DNO6UAH67Z0</td>\n",
       "      <td>B000CDSS22</td>\n",
       "      <td>4.717736</td>\n",
       "    </tr>\n",
       "    <tr>\n",
       "      <th>1</th>\n",
       "      <td>A3APW42N5MRVWT</td>\n",
       "      <td>6305186774</td>\n",
       "      <td>3.772784</td>\n",
       "    </tr>\n",
       "    <tr>\n",
       "      <th>2</th>\n",
       "      <td>A20D9VGCF3P13L</td>\n",
       "      <td>B004LWZW24</td>\n",
       "      <td>4.209164</td>\n",
       "    </tr>\n",
       "    <tr>\n",
       "      <th>3</th>\n",
       "      <td>A82LIVYSX6WZ9</td>\n",
       "      <td>B00001U0DM</td>\n",
       "      <td>2.609192</td>\n",
       "    </tr>\n",
       "    <tr>\n",
       "      <th>4</th>\n",
       "      <td>A3LRKDF5WU4ZDO</td>\n",
       "      <td>B00005JOZI</td>\n",
       "      <td>4.581898</td>\n",
       "    </tr>\n",
       "  </tbody>\n",
       "</table>\n",
       "</div>"
      ],
      "text/plain": [
       "         reviewer       movie  predicted_values\n",
       "0  A34DNO6UAH67Z0  B000CDSS22          4.717736\n",
       "1  A3APW42N5MRVWT  6305186774          3.772784\n",
       "2  A20D9VGCF3P13L  B004LWZW24          4.209164\n",
       "3   A82LIVYSX6WZ9  B00001U0DM          2.609192\n",
       "4  A3LRKDF5WU4ZDO  B00005JOZI          4.581898"
      ]
     },
     "execution_count": 12,
     "metadata": {},
     "output_type": "execute_result"
    }
   ],
   "source": [
    "SVD_ratings.head()"
   ]
  },
  {
   "cell_type": "code",
   "execution_count": 67,
   "metadata": {},
   "outputs": [
    {
     "name": "stdout",
     "output_type": "stream",
     "text": [
      "SVD RMSE Score: 1.00070\n"
     ]
    }
   ],
   "source": [
    "SVD_rmse = rmse_test(predicted_data=SVD_ratings['predicted_values'], true_data=dev_df['overall'])\n",
    "print('SVD RMSE Score: {:.5f}'.format(SVD_rmse))"
   ]
  },
  {
   "cell_type": "markdown",
   "metadata": {},
   "source": [
    "## 4. SlopeOne "
   ]
  },
  {
   "cell_type": "markdown",
   "metadata": {},
   "source": [
    "Rating calculated using the following equation:\n",
    "\n",
    "$\\hat{r}_{ui} = \\mu_u + \\frac{1}{|R_i(\\mu)|} \\sum \\limits_{j \\in R_i(u)} dev(i,j)$\n",
    "\n",
    "Where:  \n",
    "$R_i(u)$ = The set of items $j$ rated by $u$ that also have at least one common user with $i$ \n",
    "\n",
    "$dev(i,j)$ = average difference between the ratings of $i$ and $j$"
   ]
  },
  {
   "cell_type": "code",
   "execution_count": 30,
   "metadata": {},
   "outputs": [
    {
     "data": {
      "text/plain": [
       "<surprise.prediction_algorithms.slope_one.SlopeOne at 0x1328fb550>"
      ]
     },
     "execution_count": 30,
     "metadata": {},
     "output_type": "execute_result"
    }
   ],
   "source": [
    "# Fit SlopeOne model\n",
    "model = SlopeOne()\n",
    "model.fit(train_data)\n",
    "\n",
    "# Save Model\n",
    "with open('../output/SlopeOne_model.dev.p', 'wb') as fp:\n",
    "    pickle.dump(model, fp, protocol=pickle.HIGHEST_PROTOCOL)"
   ]
  },
  {
   "cell_type": "code",
   "execution_count": 31,
   "metadata": {},
   "outputs": [],
   "source": [
    "predictions = []\n",
    "\n",
    "for i in dev_df.itertuples():\n",
    "    reviewer = i[1]\n",
    "    movie = i[2]\n",
    "\n",
    "    predictions.append(model.predict(reviewer, movie).est)"
   ]
  },
  {
   "cell_type": "code",
   "execution_count": 32,
   "metadata": {},
   "outputs": [],
   "source": [
    "# Save predictions \n",
    "SlopeOne_ratings = pd.DataFrame({'reviewer': dev_df['reviewerID'],\n",
    "                                'movie': dev_df['asin'],\n",
    "                                'predicted_values': predictions})\n",
    "\n",
    "SlopeOne_ratings.to_csv('../output/SlopeOne_predictions.dev.csv', index=False)"
   ]
  },
  {
   "cell_type": "code",
   "execution_count": 33,
   "metadata": {},
   "outputs": [
    {
     "data": {
      "text/html": [
       "<div>\n",
       "<style scoped>\n",
       "    .dataframe tbody tr th:only-of-type {\n",
       "        vertical-align: middle;\n",
       "    }\n",
       "\n",
       "    .dataframe tbody tr th {\n",
       "        vertical-align: top;\n",
       "    }\n",
       "\n",
       "    .dataframe thead th {\n",
       "        text-align: right;\n",
       "    }\n",
       "</style>\n",
       "<table border=\"1\" class=\"dataframe\">\n",
       "  <thead>\n",
       "    <tr style=\"text-align: right;\">\n",
       "      <th></th>\n",
       "      <th>reviewer</th>\n",
       "      <th>movie</th>\n",
       "      <th>predicted_values</th>\n",
       "    </tr>\n",
       "  </thead>\n",
       "  <tbody>\n",
       "    <tr>\n",
       "      <th>0</th>\n",
       "      <td>A34DNO6UAH67Z0</td>\n",
       "      <td>B000CDSS22</td>\n",
       "      <td>5.000000</td>\n",
       "    </tr>\n",
       "    <tr>\n",
       "      <th>1</th>\n",
       "      <td>A3APW42N5MRVWT</td>\n",
       "      <td>6305186774</td>\n",
       "      <td>3.567873</td>\n",
       "    </tr>\n",
       "    <tr>\n",
       "      <th>2</th>\n",
       "      <td>A20D9VGCF3P13L</td>\n",
       "      <td>B004LWZW24</td>\n",
       "      <td>4.412454</td>\n",
       "    </tr>\n",
       "    <tr>\n",
       "      <th>3</th>\n",
       "      <td>A82LIVYSX6WZ9</td>\n",
       "      <td>B00001U0DM</td>\n",
       "      <td>2.019658</td>\n",
       "    </tr>\n",
       "    <tr>\n",
       "      <th>4</th>\n",
       "      <td>A3LRKDF5WU4ZDO</td>\n",
       "      <td>B00005JOZI</td>\n",
       "      <td>4.600000</td>\n",
       "    </tr>\n",
       "  </tbody>\n",
       "</table>\n",
       "</div>"
      ],
      "text/plain": [
       "         reviewer       movie  predicted_values\n",
       "0  A34DNO6UAH67Z0  B000CDSS22          5.000000\n",
       "1  A3APW42N5MRVWT  6305186774          3.567873\n",
       "2  A20D9VGCF3P13L  B004LWZW24          4.412454\n",
       "3   A82LIVYSX6WZ9  B00001U0DM          2.019658\n",
       "4  A3LRKDF5WU4ZDO  B00005JOZI          4.600000"
      ]
     },
     "execution_count": 33,
     "metadata": {},
     "output_type": "execute_result"
    }
   ],
   "source": [
    "SlopeOne_ratings.head()"
   ]
  },
  {
   "cell_type": "code",
   "execution_count": 46,
   "metadata": {},
   "outputs": [
    {
     "name": "stdout",
     "output_type": "stream",
     "text": [
      "SlopeOne RMSE Score: 1.10155\n"
     ]
    }
   ],
   "source": [
    "SlopeOne_rmse = rmse_test(predicted_data=SlopeOne_ratings['predicted_values'], true_data=dev_df['overall'])\n",
    "print('SlopeOne RMSE Score: {:.5f}'.format(SlopeOne_rmse))"
   ]
  },
  {
   "cell_type": "markdown",
   "metadata": {},
   "source": [
    "## 5. Average Predictions\n",
    "\n",
    "Does averaging SlopeOne predictions with SVD improve performance?"
   ]
  },
  {
   "cell_type": "code",
   "execution_count": 61,
   "metadata": {},
   "outputs": [
    {
     "name": "stdout",
     "output_type": "stream",
     "text": [
      "(169724, 4)\n"
     ]
    },
    {
     "data": {
      "text/html": [
       "<div>\n",
       "<style scoped>\n",
       "    .dataframe tbody tr th:only-of-type {\n",
       "        vertical-align: middle;\n",
       "    }\n",
       "\n",
       "    .dataframe tbody tr th {\n",
       "        vertical-align: top;\n",
       "    }\n",
       "\n",
       "    .dataframe thead th {\n",
       "        text-align: right;\n",
       "    }\n",
       "</style>\n",
       "<table border=\"1\" class=\"dataframe\">\n",
       "  <thead>\n",
       "    <tr style=\"text-align: right;\">\n",
       "      <th></th>\n",
       "      <th>reviewer</th>\n",
       "      <th>movie</th>\n",
       "      <th>predicted_values_x</th>\n",
       "      <th>predicted_values_y</th>\n",
       "    </tr>\n",
       "  </thead>\n",
       "  <tbody>\n",
       "    <tr>\n",
       "      <th>0</th>\n",
       "      <td>A34DNO6UAH67Z0</td>\n",
       "      <td>B000CDSS22</td>\n",
       "      <td>4.717736</td>\n",
       "      <td>5.000000</td>\n",
       "    </tr>\n",
       "    <tr>\n",
       "      <th>1</th>\n",
       "      <td>A3APW42N5MRVWT</td>\n",
       "      <td>6305186774</td>\n",
       "      <td>3.772784</td>\n",
       "      <td>3.567873</td>\n",
       "    </tr>\n",
       "    <tr>\n",
       "      <th>2</th>\n",
       "      <td>A20D9VGCF3P13L</td>\n",
       "      <td>B004LWZW24</td>\n",
       "      <td>4.209164</td>\n",
       "      <td>4.412454</td>\n",
       "    </tr>\n",
       "    <tr>\n",
       "      <th>3</th>\n",
       "      <td>A82LIVYSX6WZ9</td>\n",
       "      <td>B00001U0DM</td>\n",
       "      <td>2.609192</td>\n",
       "      <td>2.019658</td>\n",
       "    </tr>\n",
       "    <tr>\n",
       "      <th>4</th>\n",
       "      <td>A3LRKDF5WU4ZDO</td>\n",
       "      <td>B00005JOZI</td>\n",
       "      <td>4.581898</td>\n",
       "      <td>4.600000</td>\n",
       "    </tr>\n",
       "  </tbody>\n",
       "</table>\n",
       "</div>"
      ],
      "text/plain": [
       "         reviewer       movie  predicted_values_x  predicted_values_y\n",
       "0  A34DNO6UAH67Z0  B000CDSS22            4.717736            5.000000\n",
       "1  A3APW42N5MRVWT  6305186774            3.772784            3.567873\n",
       "2  A20D9VGCF3P13L  B004LWZW24            4.209164            4.412454\n",
       "3   A82LIVYSX6WZ9  B00001U0DM            2.609192            2.019658\n",
       "4  A3LRKDF5WU4ZDO  B00005JOZI            4.581898            4.600000"
      ]
     },
     "execution_count": 61,
     "metadata": {},
     "output_type": "execute_result"
    }
   ],
   "source": [
    "combine = SVD_ratings.merge(SlopeOne_ratings, on=['reviewer', 'movie'], how='inner')\n",
    "print(combine.shape)\n",
    "combine.head()"
   ]
  },
  {
   "cell_type": "code",
   "execution_count": 63,
   "metadata": {},
   "outputs": [
    {
     "data": {
      "text/html": [
       "<div>\n",
       "<style scoped>\n",
       "    .dataframe tbody tr th:only-of-type {\n",
       "        vertical-align: middle;\n",
       "    }\n",
       "\n",
       "    .dataframe tbody tr th {\n",
       "        vertical-align: top;\n",
       "    }\n",
       "\n",
       "    .dataframe thead th {\n",
       "        text-align: right;\n",
       "    }\n",
       "</style>\n",
       "<table border=\"1\" class=\"dataframe\">\n",
       "  <thead>\n",
       "    <tr style=\"text-align: right;\">\n",
       "      <th></th>\n",
       "      <th>reviewer</th>\n",
       "      <th>movie</th>\n",
       "      <th>predicted_values_x</th>\n",
       "      <th>predicted_values_y</th>\n",
       "      <th>rating_ave</th>\n",
       "    </tr>\n",
       "  </thead>\n",
       "  <tbody>\n",
       "    <tr>\n",
       "      <th>0</th>\n",
       "      <td>A34DNO6UAH67Z0</td>\n",
       "      <td>B000CDSS22</td>\n",
       "      <td>4.717736</td>\n",
       "      <td>5.000000</td>\n",
       "      <td>4.858868</td>\n",
       "    </tr>\n",
       "    <tr>\n",
       "      <th>1</th>\n",
       "      <td>A3APW42N5MRVWT</td>\n",
       "      <td>6305186774</td>\n",
       "      <td>3.772784</td>\n",
       "      <td>3.567873</td>\n",
       "      <td>3.670328</td>\n",
       "    </tr>\n",
       "    <tr>\n",
       "      <th>2</th>\n",
       "      <td>A20D9VGCF3P13L</td>\n",
       "      <td>B004LWZW24</td>\n",
       "      <td>4.209164</td>\n",
       "      <td>4.412454</td>\n",
       "      <td>4.310809</td>\n",
       "    </tr>\n",
       "    <tr>\n",
       "      <th>3</th>\n",
       "      <td>A82LIVYSX6WZ9</td>\n",
       "      <td>B00001U0DM</td>\n",
       "      <td>2.609192</td>\n",
       "      <td>2.019658</td>\n",
       "      <td>2.314425</td>\n",
       "    </tr>\n",
       "    <tr>\n",
       "      <th>4</th>\n",
       "      <td>A3LRKDF5WU4ZDO</td>\n",
       "      <td>B00005JOZI</td>\n",
       "      <td>4.581898</td>\n",
       "      <td>4.600000</td>\n",
       "      <td>4.590949</td>\n",
       "    </tr>\n",
       "  </tbody>\n",
       "</table>\n",
       "</div>"
      ],
      "text/plain": [
       "         reviewer       movie  predicted_values_x  predicted_values_y  \\\n",
       "0  A34DNO6UAH67Z0  B000CDSS22            4.717736            5.000000   \n",
       "1  A3APW42N5MRVWT  6305186774            3.772784            3.567873   \n",
       "2  A20D9VGCF3P13L  B004LWZW24            4.209164            4.412454   \n",
       "3   A82LIVYSX6WZ9  B00001U0DM            2.609192            2.019658   \n",
       "4  A3LRKDF5WU4ZDO  B00005JOZI            4.581898            4.600000   \n",
       "\n",
       "   rating_ave  \n",
       "0    4.858868  \n",
       "1    3.670328  \n",
       "2    4.310809  \n",
       "3    2.314425  \n",
       "4    4.590949  "
      ]
     },
     "execution_count": 63,
     "metadata": {},
     "output_type": "execute_result"
    }
   ],
   "source": [
    "combine['rating_ave'] = combine[['predicted_values_x', 'predicted_values_y']].mean(axis=1)\n",
    "combine.head()"
   ]
  },
  {
   "cell_type": "code",
   "execution_count": 64,
   "metadata": {},
   "outputs": [
    {
     "name": "stdout",
     "output_type": "stream",
     "text": [
      "SlopeOne RMSE Score: 1.02162\n"
     ]
    }
   ],
   "source": [
    "combined_rmse = rmse_test(predicted_data=combine['rating_ave'], true_data=dev_df['overall'])\n",
    "print('SlopeOne RMSE Score: {:.5f}'.format(combined_rmse))"
   ]
  },
  {
   "cell_type": "markdown",
   "metadata": {},
   "source": [
    "Performance did not improve. SVD predictions alone had a better RMSE score. "
   ]
  },
  {
   "cell_type": "code",
   "execution_count": null,
   "metadata": {},
   "outputs": [],
   "source": []
  }
 ],
 "metadata": {
  "kernelspec": {
   "display_name": "Python 3",
   "language": "python",
   "name": "python3"
  },
  "language_info": {
   "codemirror_mode": {
    "name": "ipython",
    "version": 3
   },
   "file_extension": ".py",
   "mimetype": "text/x-python",
   "name": "python",
   "nbconvert_exporter": "python",
   "pygments_lexer": "ipython3",
   "version": "3.7.0"
  }
 },
 "nbformat": 4,
 "nbformat_minor": 2
}
